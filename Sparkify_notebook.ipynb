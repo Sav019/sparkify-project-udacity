{
 "cells": [
  {
   "cell_type": "markdown",
   "metadata": {},
   "source": [
    "# UDACITY Project - [Capstone Content] Spark"
   ]
  },
  {
   "cell_type": "markdown",
   "metadata": {},
   "source": [
    "In this project, we aim to predict user churn for the music streaming service Sparkify. We'll leverage a dataset of user interactions with Sparkify’s app to develop a model capable of identifying users at risk of cancellation."
   ]
  },
  {
   "cell_type": "markdown",
   "metadata": {},
   "source": [
    "# Table of Contents\n",
    "\n",
    "1. [Import Libraries & Spark Session Preparation](#1-import-libraries--spark-session-preparation)\n",
    "2. [Data Exploration](#2-data-exploration)\n",
    "3. [Data Preparation & Cleanup](#3-data-preparation--cleanup)\n",
    "4. [Feature Engineering](#4-feature-engineering)\n",
    "5. [Modeling](#5-modeling)"
   ]
  },
  {
   "cell_type": "markdown",
   "metadata": {},
   "source": [
    "# 1. Import Libraries & Spark Session Preparation\n",
    "In this section, we will import the necessary libraries and create a Spark session to load and process the Sparkify dataset."
   ]
  },
  {
   "cell_type": "code",
   "execution_count": 45,
   "metadata": {
    "msg_id": "4dabe2ee-17db-4a4a-ae1a-d208b406deca"
   },
   "outputs": [],
   "source": [
    "from pyspark.sql import SparkSession\n",
    "from pyspark.sql.functions import avg, col, concat, desc, explode, lit, trim, min, max, split, udf\n",
    "from pyspark.sql.types import StringType\n",
    "from pyspark.sql.types import IntegerType\n",
    "#from pyspark.sql.functions import desc\n",
    "#from pyspark.sql.functions import asc\n",
    "from pyspark.sql.functions import sum as Fsum\n",
    "#from pyspark.sql.functions import when, col\n",
    "from functools import reduce\n",
    "from pyspark.sql import functions as F\n",
    "from IPython.display import Markdown\n",
    "\n",
    "from pyspark.ml import Pipeline\n",
    "from pyspark.ml.pipeline import PipelineModel\n",
    "from pyspark.ml.classification import LogisticRegression, RandomForestClassifier, GBTClassifier, LinearSVC\n",
    "from pyspark.ml.evaluation import MulticlassClassificationEvaluator\n",
    "from pyspark.ml.feature import CountVectorizer, IDF, Normalizer, PCA, RegexTokenizer, StandardScaler, StopWordsRemover, StringIndexer, OneHotEncoder, VectorAssembler\n",
    "from pyspark.ml.regression import LinearRegression\n",
    "from pyspark.ml.tuning import CrossValidator, ParamGridBuilder\n",
    "\n",
    "import datetime\n",
    "import time\n",
    "\n",
    "import numpy as np\n",
    "import pandas as pd\n",
    "%matplotlib inline\n",
    "import matplotlib.pyplot as plt\n",
    "import seaborn as sns\n",
    "\n",
    "import re\n",
    "\n",
    "#import ibmos2spark"
   ]
  },
  {
   "cell_type": "code",
   "execution_count": 2,
   "metadata": {},
   "outputs": [
    {
     "name": "stdout",
     "output_type": "stream",
     "text": [
      "+--------------------+---------+---------+------+-------------+--------+---------+-----+--------------------+------+---------------+-------------+---------+--------------------+------+-------------+--------------------+------+\n",
      "|              artist|     auth|firstName|gender|itemInSession|lastName|   length|level|            location|method|           page| registration|sessionId|                song|status|           ts|           userAgent|userId|\n",
      "+--------------------+---------+---------+------+-------------+--------+---------+-----+--------------------+------+---------------+-------------+---------+--------------------+------+-------------+--------------------+------+\n",
      "|      Martha Tilston|Logged In|    Colin|     M|           50| Freeman|277.89016| paid|     Bakersfield, CA|   PUT|       NextSong|1538173362000|       29|           Rockpools|   200|1538352117000|Mozilla/5.0 (Wind...|    30|\n",
      "|    Five Iron Frenzy|Logged In|    Micah|     M|           79|    Long|236.09424| free|Boston-Cambridge-...|   PUT|       NextSong|1538331630000|        8|              Canada|   200|1538352180000|\"Mozilla/5.0 (Win...|     9|\n",
      "|        Adam Lambert|Logged In|    Colin|     M|           51| Freeman| 282.8273| paid|     Bakersfield, CA|   PUT|       NextSong|1538173362000|       29|   Time For Miracles|   200|1538352394000|Mozilla/5.0 (Wind...|    30|\n",
      "|              Enigma|Logged In|    Micah|     M|           80|    Long|262.71302| free|Boston-Cambridge-...|   PUT|       NextSong|1538331630000|        8|Knocking On Forbi...|   200|1538352416000|\"Mozilla/5.0 (Win...|     9|\n",
      "|           Daft Punk|Logged In|    Colin|     M|           52| Freeman|223.60771| paid|     Bakersfield, CA|   PUT|       NextSong|1538173362000|       29|Harder Better Fas...|   200|1538352676000|Mozilla/5.0 (Wind...|    30|\n",
      "|The All-American ...|Logged In|    Micah|     M|           81|    Long|208.29995| free|Boston-Cambridge-...|   PUT|       NextSong|1538331630000|        8|      Don't Leave Me|   200|1538352678000|\"Mozilla/5.0 (Win...|     9|\n",
      "|The Velvet Underg...|Logged In|    Micah|     M|           82|    Long|260.46649| free|Boston-Cambridge-...|   PUT|       NextSong|1538331630000|        8|         Run Run Run|   200|1538352886000|\"Mozilla/5.0 (Win...|     9|\n",
      "|        Starflyer 59|Logged In|    Colin|     M|           53| Freeman|185.44281| paid|     Bakersfield, CA|   PUT|       NextSong|1538173362000|       29|Passengers (Old A...|   200|1538352899000|Mozilla/5.0 (Wind...|    30|\n",
      "|                null|Logged In|    Colin|     M|           54| Freeman|     null| paid|     Bakersfield, CA|   PUT|Add to Playlist|1538173362000|       29|                null|   200|1538352905000|Mozilla/5.0 (Wind...|    30|\n",
      "|            Frumpies|Logged In|    Colin|     M|           55| Freeman|134.47791| paid|     Bakersfield, CA|   PUT|       NextSong|1538173362000|       29|          Fuck Kitty|   200|1538353084000|Mozilla/5.0 (Wind...|    30|\n",
      "+--------------------+---------+---------+------+-------------+--------+---------+-----+--------------------+------+---------------+-------------+---------+--------------------+------+-------------+--------------------+------+\n",
      "only showing top 10 rows\n",
      "\n"
     ]
    }
   ],
   "source": [
    "## Starter code\n",
    "from pyspark.sql import SparkSession\n",
    "\n",
    "## Create spark session\n",
    "spark = SparkSession \\\n",
    "    .builder \\\n",
    "    .appName(\"Sparkify\") \\\n",
    "    .getOrCreate()\n",
    "\n",
    "## Read in full sparkify dataset\n",
    "event_data = \"./data/mini_sparkify_event_data.json\"\n",
    "user_log = spark.read.json(event_data)\n",
    "user_log.show(10)"
   ]
  },
  {
   "cell_type": "markdown",
   "metadata": {},
   "source": [
    "# 2. Data Exploration\n",
    "Before diving into data cleaning and feature engineering, we’ll explore the dataset to understand its structure, the types of features available, and basic statistics."
   ]
  },
  {
   "cell_type": "markdown",
   "metadata": {},
   "source": [
    "The df contains user interaction data from Sparkify, detailing user demographics, session activities, song plays, subscription status, and technical details of each interaction within the application."
   ]
  },
  {
   "cell_type": "code",
   "execution_count": 3,
   "metadata": {},
   "outputs": [
    {
     "name": "stdout",
     "output_type": "stream",
     "text": [
      "(286500, 18)\n"
     ]
    }
   ],
   "source": [
    "df = user_log.toPandas()\n",
    "print(df.shape)"
   ]
  },
  {
   "cell_type": "markdown",
   "metadata": {},
   "source": [
    "### Column Descriptions\n",
    "The dataset contains various columns detailing user interactions. Here’s a summary of each column to provide context on the data we'll work with.\n",
    "\n",
    "1. **`artist`**: The name of the musical artist associated with the song that the user listened to or interacted with.\n",
    "2. **`auth`**: The authentication status of the user at the time of interaction, such as \"Logged In\" or other states indicating if the user was authenticated.\n",
    "3. **`firstName`**: The first name of the user interacting with the service.\n",
    "4. **`gender`**: The gender of the user, represented as \"M\" for male and \"F\" for female.\n",
    "5. **`itemInSession`**: Indicates the sequence or order of interactions within a single session, often reflecting the nth interaction by the user in that session.\n",
    "6. **`lastName`**: The last name of the user.\n",
    "7. **`length`**: The length of the song or media in seconds, representing the duration of the content the user interacted with.\n",
    "8. **`level`**: The subscription level of the user, shown as \"free\" or \"paid\".\n",
    "9. **`location`**: The geographical location of the user, given as \"City, State\".\n",
    "10. **`method`**: The HTTP method used for the interaction, such as \"PUT\" or \"GET\", indicating the type of request.\n",
    "11. **`page`**: The page or action the user accessed within the application, such as \"NextSong\" which indicates that the user played the next song.\n",
    "12. **`registration`**: The timestamp of the user's registration on the platform, represented in epoch format.\n",
    "13. **`sessionId`**: A unique identifier for the user's session, allowing tracking of all actions within a specific session.\n",
    "14. **`song`**: The title of the song or media item the user listened to.\n",
    "15. **`status`**: The HTTP status code resulting from the user's action, where \"200\" indicates a successful request.\n",
    "16. **`ts`**: The timestamp of the specific user interaction, recorded in epoch format.\n",
    "17. **`userAgent`**:: The user's device and browser information, providing details on the operating system, browser, and version.\n",
    "18. **`userId`**: A unique identifier assigned to the user for tracking purposes across sessions.\n"
   ]
  },
  {
   "cell_type": "code",
   "execution_count": 4,
   "metadata": {},
   "outputs": [
    {
     "data": {
      "text/html": [
       "<div>\n",
       "<style scoped>\n",
       "    .dataframe tbody tr th:only-of-type {\n",
       "        vertical-align: middle;\n",
       "    }\n",
       "\n",
       "    .dataframe tbody tr th {\n",
       "        vertical-align: top;\n",
       "    }\n",
       "\n",
       "    .dataframe thead th {\n",
       "        text-align: right;\n",
       "    }\n",
       "</style>\n",
       "<table border=\"1\" class=\"dataframe\">\n",
       "  <thead>\n",
       "    <tr style=\"text-align: right;\">\n",
       "      <th></th>\n",
       "      <th>artist</th>\n",
       "      <th>auth</th>\n",
       "      <th>firstName</th>\n",
       "      <th>gender</th>\n",
       "      <th>itemInSession</th>\n",
       "      <th>lastName</th>\n",
       "      <th>length</th>\n",
       "      <th>level</th>\n",
       "      <th>location</th>\n",
       "      <th>method</th>\n",
       "      <th>page</th>\n",
       "      <th>registration</th>\n",
       "      <th>sessionId</th>\n",
       "      <th>song</th>\n",
       "      <th>status</th>\n",
       "      <th>ts</th>\n",
       "      <th>userAgent</th>\n",
       "      <th>userId</th>\n",
       "    </tr>\n",
       "  </thead>\n",
       "  <tbody>\n",
       "    <tr>\n",
       "      <th>0</th>\n",
       "      <td>Martha Tilston</td>\n",
       "      <td>Logged In</td>\n",
       "      <td>Colin</td>\n",
       "      <td>M</td>\n",
       "      <td>50</td>\n",
       "      <td>Freeman</td>\n",
       "      <td>277.89016</td>\n",
       "      <td>paid</td>\n",
       "      <td>Bakersfield, CA</td>\n",
       "      <td>PUT</td>\n",
       "      <td>NextSong</td>\n",
       "      <td>1.538173e+12</td>\n",
       "      <td>29</td>\n",
       "      <td>Rockpools</td>\n",
       "      <td>200</td>\n",
       "      <td>1538352117000</td>\n",
       "      <td>Mozilla/5.0 (Windows NT 6.1; WOW64; rv:31.0) G...</td>\n",
       "      <td>30</td>\n",
       "    </tr>\n",
       "    <tr>\n",
       "      <th>1</th>\n",
       "      <td>Five Iron Frenzy</td>\n",
       "      <td>Logged In</td>\n",
       "      <td>Micah</td>\n",
       "      <td>M</td>\n",
       "      <td>79</td>\n",
       "      <td>Long</td>\n",
       "      <td>236.09424</td>\n",
       "      <td>free</td>\n",
       "      <td>Boston-Cambridge-Newton, MA-NH</td>\n",
       "      <td>PUT</td>\n",
       "      <td>NextSong</td>\n",
       "      <td>1.538332e+12</td>\n",
       "      <td>8</td>\n",
       "      <td>Canada</td>\n",
       "      <td>200</td>\n",
       "      <td>1538352180000</td>\n",
       "      <td>\"Mozilla/5.0 (Windows NT 6.1; WOW64) AppleWebK...</td>\n",
       "      <td>9</td>\n",
       "    </tr>\n",
       "    <tr>\n",
       "      <th>2</th>\n",
       "      <td>Adam Lambert</td>\n",
       "      <td>Logged In</td>\n",
       "      <td>Colin</td>\n",
       "      <td>M</td>\n",
       "      <td>51</td>\n",
       "      <td>Freeman</td>\n",
       "      <td>282.82730</td>\n",
       "      <td>paid</td>\n",
       "      <td>Bakersfield, CA</td>\n",
       "      <td>PUT</td>\n",
       "      <td>NextSong</td>\n",
       "      <td>1.538173e+12</td>\n",
       "      <td>29</td>\n",
       "      <td>Time For Miracles</td>\n",
       "      <td>200</td>\n",
       "      <td>1538352394000</td>\n",
       "      <td>Mozilla/5.0 (Windows NT 6.1; WOW64; rv:31.0) G...</td>\n",
       "      <td>30</td>\n",
       "    </tr>\n",
       "    <tr>\n",
       "      <th>3</th>\n",
       "      <td>Enigma</td>\n",
       "      <td>Logged In</td>\n",
       "      <td>Micah</td>\n",
       "      <td>M</td>\n",
       "      <td>80</td>\n",
       "      <td>Long</td>\n",
       "      <td>262.71302</td>\n",
       "      <td>free</td>\n",
       "      <td>Boston-Cambridge-Newton, MA-NH</td>\n",
       "      <td>PUT</td>\n",
       "      <td>NextSong</td>\n",
       "      <td>1.538332e+12</td>\n",
       "      <td>8</td>\n",
       "      <td>Knocking On Forbidden Doors</td>\n",
       "      <td>200</td>\n",
       "      <td>1538352416000</td>\n",
       "      <td>\"Mozilla/5.0 (Windows NT 6.1; WOW64) AppleWebK...</td>\n",
       "      <td>9</td>\n",
       "    </tr>\n",
       "    <tr>\n",
       "      <th>4</th>\n",
       "      <td>Daft Punk</td>\n",
       "      <td>Logged In</td>\n",
       "      <td>Colin</td>\n",
       "      <td>M</td>\n",
       "      <td>52</td>\n",
       "      <td>Freeman</td>\n",
       "      <td>223.60771</td>\n",
       "      <td>paid</td>\n",
       "      <td>Bakersfield, CA</td>\n",
       "      <td>PUT</td>\n",
       "      <td>NextSong</td>\n",
       "      <td>1.538173e+12</td>\n",
       "      <td>29</td>\n",
       "      <td>Harder Better Faster Stronger</td>\n",
       "      <td>200</td>\n",
       "      <td>1538352676000</td>\n",
       "      <td>Mozilla/5.0 (Windows NT 6.1; WOW64; rv:31.0) G...</td>\n",
       "      <td>30</td>\n",
       "    </tr>\n",
       "  </tbody>\n",
       "</table>\n",
       "</div>"
      ],
      "text/plain": [
       "             artist       auth firstName gender  itemInSession lastName  \\\n",
       "0    Martha Tilston  Logged In     Colin      M             50  Freeman   \n",
       "1  Five Iron Frenzy  Logged In     Micah      M             79     Long   \n",
       "2      Adam Lambert  Logged In     Colin      M             51  Freeman   \n",
       "3            Enigma  Logged In     Micah      M             80     Long   \n",
       "4         Daft Punk  Logged In     Colin      M             52  Freeman   \n",
       "\n",
       "      length level                        location method      page  \\\n",
       "0  277.89016  paid                 Bakersfield, CA    PUT  NextSong   \n",
       "1  236.09424  free  Boston-Cambridge-Newton, MA-NH    PUT  NextSong   \n",
       "2  282.82730  paid                 Bakersfield, CA    PUT  NextSong   \n",
       "3  262.71302  free  Boston-Cambridge-Newton, MA-NH    PUT  NextSong   \n",
       "4  223.60771  paid                 Bakersfield, CA    PUT  NextSong   \n",
       "\n",
       "   registration  sessionId                           song  status  \\\n",
       "0  1.538173e+12         29                      Rockpools     200   \n",
       "1  1.538332e+12          8                         Canada     200   \n",
       "2  1.538173e+12         29              Time For Miracles     200   \n",
       "3  1.538332e+12          8    Knocking On Forbidden Doors     200   \n",
       "4  1.538173e+12         29  Harder Better Faster Stronger     200   \n",
       "\n",
       "              ts                                          userAgent userId  \n",
       "0  1538352117000  Mozilla/5.0 (Windows NT 6.1; WOW64; rv:31.0) G...     30  \n",
       "1  1538352180000  \"Mozilla/5.0 (Windows NT 6.1; WOW64) AppleWebK...      9  \n",
       "2  1538352394000  Mozilla/5.0 (Windows NT 6.1; WOW64; rv:31.0) G...     30  \n",
       "3  1538352416000  \"Mozilla/5.0 (Windows NT 6.1; WOW64) AppleWebK...      9  \n",
       "4  1538352676000  Mozilla/5.0 (Windows NT 6.1; WOW64; rv:31.0) G...     30  "
      ]
     },
     "execution_count": 4,
     "metadata": {},
     "output_type": "execute_result"
    }
   ],
   "source": [
    "df.head()"
   ]
  },
  {
   "cell_type": "code",
   "execution_count": 5,
   "metadata": {},
   "outputs": [
    {
     "name": "stdout",
     "output_type": "stream",
     "text": [
      "+--------------------+\n",
      "|                page|\n",
      "+--------------------+\n",
      "|              Cancel|\n",
      "|    Submit Downgrade|\n",
      "|         Thumbs Down|\n",
      "|                Home|\n",
      "|           Downgrade|\n",
      "|         Roll Advert|\n",
      "|              Logout|\n",
      "|       Save Settings|\n",
      "|Cancellation Conf...|\n",
      "|               About|\n",
      "| Submit Registration|\n",
      "|            Settings|\n",
      "|               Login|\n",
      "|            Register|\n",
      "|     Add to Playlist|\n",
      "|          Add Friend|\n",
      "|            NextSong|\n",
      "|           Thumbs Up|\n",
      "|                Help|\n",
      "|             Upgrade|\n",
      "|               Error|\n",
      "|      Submit Upgrade|\n",
      "+--------------------+\n",
      "\n"
     ]
    }
   ],
   "source": [
    "distinct_pages = user_log.select(\"page\").distinct()\n",
    "distinct_pages.show(50)"
   ]
  },
  {
   "cell_type": "markdown",
   "metadata": {},
   "source": [
    "The status column refers to the HTML status of the entry. Three posible statuses are tracked in the list, namely 200, 307 and 404. The meanings are listed in the following:\n",
    "- 307: Temporary Redirect: The request should be repeated with another URI, but future requests should use the original URI.\n",
    "- 404: Not Found: The requested resource couldn’t be found on the server.\n",
    "- 200 OK: The request succeeded, and the server returned the requested resource."
   ]
  },
  {
   "cell_type": "code",
   "execution_count": 6,
   "metadata": {
    "scrolled": true
   },
   "outputs": [
    {
     "name": "stdout",
     "output_type": "stream",
     "text": [
      "+------+------+\n",
      "|status| count|\n",
      "+------+------+\n",
      "|   200|259812|\n",
      "|   307| 26430|\n",
      "|   404|   258|\n",
      "+------+------+\n",
      "\n"
     ]
    }
   ],
   "source": [
    "# HTML status codes \n",
    "distinct_pages = user_log.groupBy(\"status\").count().orderBy(desc('count'))\n",
    "distinct_pages.show(50)"
   ]
  },
  {
   "cell_type": "markdown",
   "metadata": {},
   "source": [
    "### Visualizing User Activity\n",
    "We'll create visualizations of user interactions, top songs, top artists, and activity distributions to gain further insight into user behavior on the platform."
   ]
  },
  {
   "cell_type": "code",
   "execution_count": 7,
   "metadata": {},
   "outputs": [
    {
     "data": {
      "image/png": "[encoded data removed]",
      "text/plain": [
       "<matplotlib.figure.Figure at 0x7e0053104400>"
      ]
     },
     "metadata": {
      "needs_background": "light"
     },
     "output_type": "display_data"
    },
    {
     "data": {
      "image/png": "[encoded data removed]",
      "text/plain": [
       "<matplotlib.figure.Figure at 0x7e00a1e5fd68>"
      ]
     },
     "metadata": {
      "needs_background": "light"
     },
     "output_type": "display_data"
    },
    {
     "data": {
      "image/png": "[encoded data removed]",
      "text/plain": [
       "<matplotlib.figure.Figure at 0x7e00565b7e48>"
      ]
     },
     "metadata": {
      "needs_background": "light"
     },
     "output_type": "display_data"
    },
    {
     "data": {
      "image/png": "[encoded data removed]",
      "text/plain": [
       "<matplotlib.figure.Figure at 0x7e0056495588>"
      ]
     },
     "metadata": {
      "needs_background": "light"
     },
     "output_type": "display_data"
    },
    {
     "data": {
      "image/png": "[encoded data removed]",
      "text/plain": [
       "<matplotlib.figure.Figure at 0x7e00554f8940>"
      ]
     },
     "metadata": {
      "needs_background": "light"
     },
     "output_type": "display_data"
    },
    {
     "data": {
      "image/png": "[encoded data removed]",
      "text/plain": [
       "<matplotlib.figure.Figure at 0x7e00565abeb8>"
      ]
     },
     "metadata": {
      "needs_background": "light"
     },
     "output_type": "display_data"
    },
    {
     "data": {
      "image/png": "[encoded data removed]",
      "text/plain": [
       "<matplotlib.figure.Figure at 0x7e00a14ca438>"
      ]
     },
     "metadata": {
      "needs_background": "light"
     },
     "output_type": "display_data"
    }
   ],
   "source": [
    "import matplotlib.pyplot as plt\n",
    "\n",
    "# Set the number of top songs, artists, and locations to display for better readability\n",
    "top_n = 20\n",
    "\n",
    "# Calculate the top N songs, artists, and locations based on play or interaction counts\n",
    "top_songs = df['song'].value_counts().head(top_n)\n",
    "top_artists = df['artist'].value_counts().head(top_n)\n",
    "top_locations = df['location'].value_counts().head(top_n)\n",
    "\n",
    "# Truncate long song names for better readability\n",
    "def truncate_label(label, max_length=15):\n",
    "    return label if len(label) <= max_length else label[:max_length] + \"...\"\n",
    "\n",
    "# Extract state abbreviation from location\n",
    "def get_state_abbr(location):\n",
    "    # Split the location string and take the last part as the state abbreviation\n",
    "    return location.split(\",\")[-1].strip()\n",
    "\n",
    "# Apply the truncation and state abbreviation functions\n",
    "top_songs.index = [truncate_label(song) for song in top_songs.index]\n",
    "top_locations.index = [get_state_abbr(location) for location in top_locations.index]\n",
    "\n",
    "# Plotting the top N songs by play count\n",
    "plt.figure(figsize=(12, 6))\n",
    "top_songs.plot(kind='bar', color='skyblue', edgecolor='black', linewidth=1)\n",
    "plt.xlabel(\"Song Name\")\n",
    "plt.ylabel(\"Play Count\")\n",
    "plt.xticks(rotation=45, ha='right')\n",
    "plt.tight_layout()\n",
    "plt.show()\n",
    "\n",
    "# Plotting the top N artists by play count\n",
    "plt.figure(figsize=(12, 6))\n",
    "top_artists.plot(kind='bar', color='salmon', edgecolor='black', linewidth=1)\n",
    "plt.xlabel(\"Artist Name\")\n",
    "plt.ylabel(\"Play Count\")\n",
    "plt.xticks(rotation=45, ha='right')\n",
    "plt.tight_layout()\n",
    "plt.show()\n",
    "\n",
    "# Plotting the top N locations by user count\n",
    "plt.figure(figsize=(12, 6))\n",
    "top_locations.plot(kind='bar', color='lightblue', edgecolor='black', linewidth=1)\n",
    "plt.xlabel(\"State Abbreviation\")\n",
    "plt.ylabel(\"User Count\")\n",
    "plt.xticks(rotation=45, ha='right')\n",
    "plt.tight_layout()\n",
    "plt.show()\n",
    "\n",
    "# Plotting the distribution of song lengths with median line and histogram\n",
    "plt.figure(figsize=(12, 6))\n",
    "plt.hist(df['length'].dropna(), bins=50, color='lightgreen', edgecolor='black', alpha=0.7)\n",
    "plt.axvline(df['length'].dropna().median(), color='red', linestyle='--', linewidth=1.5, label='Median')\n",
    "plt.xlabel(\"Length (seconds)\")\n",
    "plt.ylabel(\"Frequency\")\n",
    "plt.legend()\n",
    "plt.show()\n",
    "\n",
    "# Box plot for song lengths to highlight range, interquartile range, and outliers\n",
    "plt.figure(figsize=(8, 4))\n",
    "plt.boxplot(df['length'].dropna(), vert=False, patch_artist=True, boxprops=dict(facecolor='lightgreen'))\n",
    "plt.xlabel(\"Length (seconds)\")\n",
    "plt.show()\n",
    "\n",
    "# Calculating registration time in days from the most recent interaction\n",
    "df['t_reg_days'] = ((df['ts'].max() - df['registration']) / (1000 * 3600 * 24)).round(5)\n",
    "\n",
    "# Plotting the distribution of registration times in days with a median line\n",
    "plt.figure(figsize=(12, 6))\n",
    "plt.hist(df['t_reg_days'].dropna(), bins=50, color='lightseagreen', edgecolor='black', alpha=0.7)\n",
    "plt.axvline(df['t_reg_days'].median(), color='red', linestyle='--', linewidth=1.5, label='Median')\n",
    "plt.xlabel(\"Days Since Registration\")\n",
    "plt.ylabel(\"Frequency\")\n",
    "plt.legend()\n",
    "plt.show()\n",
    "\n",
    "# Box plot for registration times in days to examine spread and outliers\n",
    "plt.figure(figsize=(8, 4))\n",
    "plt.boxplot(df['t_reg_days'].dropna(), vert=False, patch_artist=True, boxprops=dict(facecolor='lightseagreen'))\n",
    "plt.xlabel(\"Days Since Registration\")\n",
    "plt.show()"
   ]
  },
  {
   "cell_type": "markdown",
   "metadata": {},
   "source": [
    "# 3. Data Preparation & Cleanup\n",
    "Next, we will clean the dataset by identifying and handling null values. This step ensures our dataset is well-prepared for feature engineering and modeling."
   ]
  },
  {
   "cell_type": "markdown",
   "metadata": {},
   "source": [
    "### Checking for Null Values\n",
    "We’ll identify columns with null values and assess their impact. In some cases, we’ll selectively drop or impute these values based on their relevance to user churn prediction."
   ]
  },
  {
   "cell_type": "code",
   "execution_count": 8,
   "metadata": {
    "msg_id": "e3fcd643-6e91-4452-9505-b8199475364d"
   },
   "outputs": [
    {
     "name": "stdout",
     "output_type": "stream",
     "text": [
      "The shape of the df is: (286500, 18)\n"
     ]
    }
   ],
   "source": [
    "# Get number of rows\n",
    "num_rows = user_log.count()\n",
    "\n",
    "# Get number of columns\n",
    "num_columns = len(user_log.columns)\n",
    "\n",
    "# Print the shape \n",
    "print(f\"The shape of the df is: ({num_rows}, {num_columns})\")"
   ]
  },
  {
   "cell_type": "code",
   "execution_count": 9,
   "metadata": {
    "msg_id": "72b515d2-9826-462c-b603-2855cce7e3dc",
    "scrolled": false
   },
   "outputs": [
    {
     "name": "stdout",
     "output_type": "stream",
     "text": [
      "+------+----+---------+------+-------------+--------+------+-----+--------+------+----+------------+---------+-----+------+---+---------+------+\n",
      "|artist|auth|firstName|gender|itemInSession|lastName|length|level|location|method|page|registration|sessionId| song|status| ts|userAgent|userId|\n",
      "+------+----+---------+------+-------------+--------+------+-----+--------+------+----+------------+---------+-----+------+---+---------+------+\n",
      "| 58392|   0|     8346|  8346|            0|    8346| 58392|    0|    8346|     0|   0|        8346|        0|58392|     0|  0|     8346|     0|\n",
      "+------+----+---------+------+-------------+--------+------+-----+--------+------+----+------------+---------+-----+------+---+---------+------+\n",
      "\n"
     ]
    }
   ],
   "source": [
    "# Count the number of null values in each column\n",
    "null_counts = user_log.select([F.count(F.when(F.col(c).isNull(), c)).alias(c) for c in user_log.columns])\n",
    "null_counts.show()"
   ]
  },
  {
   "cell_type": "code",
   "execution_count": 10,
   "metadata": {
    "scrolled": true
   },
   "outputs": [
    {
     "name": "stdout",
     "output_type": "stream",
     "text": [
      "+--------------------+--------+------+\n",
      "|                page|song_nan| count|\n",
      "+--------------------+--------+------+\n",
      "|            NextSong|   false|228108|\n",
      "|                Home|    true| 14457|\n",
      "|           Thumbs Up|    true| 12551|\n",
      "|     Add to Playlist|    true|  6526|\n",
      "|          Add Friend|    true|  4277|\n",
      "|         Roll Advert|    true|  3933|\n",
      "|               Login|    true|  3241|\n",
      "|              Logout|    true|  3226|\n",
      "|         Thumbs Down|    true|  2546|\n",
      "|           Downgrade|    true|  2055|\n",
      "|                Help|    true|  1726|\n",
      "|            Settings|    true|  1514|\n",
      "|               About|    true|   924|\n",
      "|             Upgrade|    true|   499|\n",
      "|       Save Settings|    true|   310|\n",
      "|               Error|    true|   258|\n",
      "|      Submit Upgrade|    true|   159|\n",
      "|    Submit Downgrade|    true|    63|\n",
      "|              Cancel|    true|    52|\n",
      "|Cancellation Conf...|    true|    52|\n",
      "|            Register|    true|    18|\n",
      "| Submit Registration|    true|     5|\n",
      "+--------------------+--------+------+\n",
      "\n"
     ]
    }
   ],
   "source": [
    "# Checking for pages with NaN-values that are song-related\n",
    "user_log = user_log.withColumn('song_nan',F.col('song').isNull())\n",
    "user_log.groupBy('page', 'song_nan').count().orderBy(desc('count')).show(50)"
   ]
  },
  {
   "cell_type": "markdown",
   "metadata": {},
   "source": [
    "The evaluation above shows that NaN-values only exist for songs where page = NextSong"
   ]
  },
  {
   "cell_type": "code",
   "execution_count": 11,
   "metadata": {
    "scrolled": true
   },
   "outputs": [
    {
     "name": "stdout",
     "output_type": "stream",
     "text": [
      "+--------------------+--------+------+\n",
      "|                page|user_nan| count|\n",
      "+--------------------+--------+------+\n",
      "|            NextSong|   false|228108|\n",
      "|           Thumbs Up|   false| 12551|\n",
      "|                Home|   false| 10082|\n",
      "|     Add to Playlist|   false|  6526|\n",
      "|                Home|    true|  4375|\n",
      "|          Add Friend|   false|  4277|\n",
      "|         Roll Advert|   false|  3933|\n",
      "|               Login|    true|  3241|\n",
      "|              Logout|   false|  3226|\n",
      "|         Thumbs Down|   false|  2546|\n",
      "|           Downgrade|   false|  2055|\n",
      "|            Settings|   false|  1514|\n",
      "|                Help|   false|  1454|\n",
      "|             Upgrade|   false|   499|\n",
      "|               About|   false|   495|\n",
      "|               About|    true|   429|\n",
      "|       Save Settings|   false|   310|\n",
      "|                Help|    true|   272|\n",
      "|               Error|   false|   252|\n",
      "|      Submit Upgrade|   false|   159|\n",
      "|    Submit Downgrade|   false|    63|\n",
      "|Cancellation Conf...|   false|    52|\n",
      "|              Cancel|   false|    52|\n",
      "|            Register|    true|    18|\n",
      "|               Error|    true|     6|\n",
      "| Submit Registration|    true|     5|\n",
      "+--------------------+--------+------+\n",
      "\n"
     ]
    }
   ],
   "source": [
    "# Checking for pages with NaN-values that are user-related\n",
    "user_log = user_log.withColumn('user_nan',F.col('firstName').isNull())\n",
    "user_log.groupBy('page', 'user_nan').count().orderBy(desc('count')).show(50)"
   ]
  },
  {
   "cell_type": "markdown",
   "metadata": {},
   "source": [
    "Let us exclusively drop the user-related null-value as the model shall be a user-based churn model."
   ]
  },
  {
   "cell_type": "code",
   "execution_count": 12,
   "metadata": {},
   "outputs": [],
   "source": [
    "user_log = user_log.na.drop(subset=['firstName'])"
   ]
  },
  {
   "cell_type": "code",
   "execution_count": 13,
   "metadata": {},
   "outputs": [
    {
     "name": "stdout",
     "output_type": "stream",
     "text": [
      "+------+----+---------+------+-------------+--------+------+-----+--------+------+----+------------+---------+-----+------+---+---------+------+--------+--------+\n",
      "|artist|auth|firstName|gender|itemInSession|lastName|length|level|location|method|page|registration|sessionId| song|status| ts|userAgent|userId|song_nan|user_nan|\n",
      "+------+----+---------+------+-------------+--------+------+-----+--------+------+----+------------+---------+-----+------+---+---------+------+--------+--------+\n",
      "| 50046|   0|        0|     0|            0|       0| 50046|    0|       0|     0|   0|           0|        0|50046|     0|  0|        0|     0|       0|       0|\n",
      "+------+----+---------+------+-------------+--------+------+-----+--------+------+----+------------+---------+-----+------+---+---------+------+--------+--------+\n",
      "\n"
     ]
    }
   ],
   "source": [
    "# Count the number of null values after dropping the user-related null values\n",
    "null_counts = user_log.select([F.count(F.when(F.col(c).isNull(), c)).alias(c) for c in user_log.columns])\n",
    "null_counts.show()"
   ]
  },
  {
   "cell_type": "markdown",
   "metadata": {},
   "source": [
    "# 4. Feature Engineering\n",
    "In this section, we create new features that could be useful in predicting churn. Features will be derived from user characteristics, account details, and activity metrics."
   ]
  },
  {
   "cell_type": "code",
   "execution_count": 14,
   "metadata": {},
   "outputs": [],
   "source": [
    "user_log.createOrReplaceTempView('user_log')"
   ]
  },
  {
   "cell_type": "markdown",
   "metadata": {},
   "source": [
    "Let us check how many distinct users we have in our dataset:"
   ]
  },
  {
   "cell_type": "code",
   "execution_count": 15,
   "metadata": {},
   "outputs": [
    {
     "data": {
      "text/plain": [
       "225"
      ]
     },
     "execution_count": 15,
     "metadata": {},
     "output_type": "execute_result"
    }
   ],
   "source": [
    "n_users = user_log.select('userId').distinct().count()\n",
    "n_users"
   ]
  },
  {
   "cell_type": "markdown",
   "metadata": {},
   "source": [
    "### Defining Churn\n",
    "To predict churn, we need a clear definition of what churn represents in this context. Here, we define churn as users who have interacted with the “Cancellation Confirmation” page."
   ]
  },
  {
   "cell_type": "code",
   "execution_count": 16,
   "metadata": {},
   "outputs": [
    {
     "name": "stdout",
     "output_type": "stream",
     "text": [
      "The churn-rate is 23.11%.\n",
      "+------+-----+\n",
      "|userId|churn|\n",
      "+------+-----+\n",
      "|100010|    0|\n",
      "|200002|    0|\n",
      "|   125|    1|\n",
      "+------+-----+\n",
      "only showing top 3 rows\n",
      "\n"
     ]
    }
   ],
   "source": [
    "# Difinition of churn\n",
    "cancel_conf = udf(lambda x: 1 if x == \"Cancellation Confirmation\" else 0, IntegerType())\n",
    "churn = user_log.withColumn(\"churn\", cancel_conf(\"page\"))\\\n",
    "    .select([\"userId\", \"churn\"])\\\n",
    "    .groupBy(\"userId\").agg(max(\"churn\").alias(\"churn\"))\n",
    "\n",
    "churn_rate = round(churn.select(avg('churn')).collect()[0]['avg(churn)']*100, 2)\n",
    "print(f\"The churn-rate is {churn_rate}%.\")\n",
    "churn.show(3)"
   ]
  },
  {
   "cell_type": "markdown",
   "metadata": {},
   "source": [
    "In addition to the churn, which will be the variable we want to predict, we want to include various features. A summary of the features is given in the following:"
   ]
  },
  {
   "cell_type": "markdown",
   "metadata": {},
   "source": [
    "#### 1. User Related Features\n",
    "    1.1 Gender\n",
    "    (1.2 Location)\n",
    "    (1.3 Browser/Computer)\n",
    "    \n",
    "#### 2. Account Related Features\n",
    "    2.1 Time Since Registration\n",
    "    2.2 Subscription Frequency\n",
    "    2.3 Unsubscription Frequency\n",
    "    2.4 Average Time on Paid Subscription\n",
    "    2.5 Average Time on Free Subscription\n",
    "\n",
    "#### 3. Song Related Features\n",
    "    3.1 Number of Unique Artists\n",
    "    3.2 Overall Average Items per Session\n",
    "    3.3 Number of Sessions\n",
    "    3.4 Total Number of Songs Played\n",
    "    3.5 Number of Unique Songs\n",
    "    3.6 Total Thumbs Up Count\n",
    "    3.7 Total Thumbs Down Count\n",
    "    3.8 Total Length of Songs Played\n",
    "    \n",
    "#### 4. Plattform Related Features\n",
    "    4.1 Total Number of Events\n",
    "    4.2 Number of Client errors (Error 404)"
   ]
  },
  {
   "cell_type": "markdown",
   "metadata": {},
   "source": [
    "In the following, the calculation of the various features is presented. We’ll create features based on user characteristics, including gender, time since registration, and subscription level. These features could help our model distinguish churned users from active ones."
   ]
  },
  {
   "cell_type": "markdown",
   "metadata": {},
   "source": [
    "#### 1. Creating User-Related Features"
   ]
  },
  {
   "cell_type": "code",
   "execution_count": 17,
   "metadata": {
    "scrolled": true
   },
   "outputs": [
    {
     "name": "stdout",
     "output_type": "stream",
     "text": [
      "+------+----------+\n",
      "|userId|gender_num|\n",
      "+------+----------+\n",
      "|100010|       0.0|\n",
      "|200002|       1.0|\n",
      "|   125|       1.0|\n",
      "+------+----------+\n",
      "only showing top 3 rows\n",
      "\n"
     ]
    }
   ],
   "source": [
    "# User related features\n",
    "user_related = spark.sql(\n",
    "    '''\n",
    "    SELECT userId, \n",
    "        AVG(CASE WHEN gender = \"M\" THEN 1 ELSE 0 END) gender_num\n",
    "    FROM user_log\n",
    "    GROUP BY userId\n",
    "    '''\n",
    ")\n",
    "\n",
    "user_related.show(3)"
   ]
  },
  {
   "cell_type": "markdown",
   "metadata": {},
   "source": [
    "#### 2. Creating Account Related Features"
   ]
  },
  {
   "cell_type": "code",
   "execution_count": 18,
   "metadata": {},
   "outputs": [
    {
     "name": "stdout",
     "output_type": "stream",
     "text": [
      "+------+----------+------------------+\n",
      "|userId|t_reg_days|             level|\n",
      "+------+----------+------------------+\n",
      "|100010|  55.64366|               0.0|\n",
      "|200002|  70.07463|0.7468354430379747|\n",
      "|   125|  71.31689|               0.0|\n",
      "+------+----------+------------------+\n",
      "only showing top 3 rows\n",
      "\n"
     ]
    }
   ],
   "source": [
    "# Acount Related Features\n",
    "account_related = spark.sql(\n",
    "    '''\n",
    "    SELECT userId,\n",
    "        ROUND((MAX(ts) - MAX(registration))/(1000*3600*24),5) t_reg_days,\n",
    "        AVG(CASE WHEN level = \"paid\" THEN 1 ELSE 0 END) level\n",
    "    FROM user_log\n",
    "    GROUP BY userId\n",
    "    '''\n",
    ")\n",
    "\n",
    "account_related.show(3)"
   ]
  },
  {
   "cell_type": "markdown",
   "metadata": {},
   "source": [
    "#### 3. Song Related Features"
   ]
  },
  {
   "cell_type": "code",
   "execution_count": 19,
   "metadata": {
    "scrolled": true
   },
   "outputs": [
    {
     "name": "stdout",
     "output_type": "stream",
     "text": [
      "+------+---------+-----------------+----------+-------+--------------+-----------+-------------+----------+\n",
      "|userId|n_artists|avg_ItemInSession|n_sessions|n_songs|n_songs_unique|n_thumbs_up|n_thumbs_down|length_tot|\n",
      "+------+---------+-----------------+----------+-------+--------------+-----------+-------------+----------+\n",
      "|100010|      252|35.89501312335958|         7|    275|           269|         17|            5|   66941.0|\n",
      "|200002|      339|60.57805907172996|         6|    387|           378|         21|            6|   94009.0|\n",
      "|   125|        8|              5.0|         1|      8|             8|          0|            0|    2089.0|\n",
      "+------+---------+-----------------+----------+-------+--------------+-----------+-------------+----------+\n",
      "only showing top 3 rows\n",
      "\n"
     ]
    }
   ],
   "source": [
    "# Song Related Features\n",
    "song_related = spark.sql(\n",
    "    '''\n",
    "    SELECT userId,\n",
    "        COUNT(DISTINCT artist) n_artists,\n",
    "        AVG(itemInSession) avg_ItemInSession,\n",
    "        COUNT(DISTINCT sessionId) n_sessions,\n",
    "        COUNT(song) n_songs, \n",
    "        COUNT(DISTINCT song) n_songs_unique,\n",
    "        SUM(CASE WHEN page = \"Thumbs Up\" THEN 1 ELSE 0 END) n_thumbs_up,\n",
    "        SUM(CASE WHEN page = \"Thumbs Down\" THEN 1 ELSE 0 END) n_thumbs_down,\n",
    "        ROUND(SUM(length)) as length_tot\n",
    "    FROM user_log\n",
    "    GROUP BY userId\n",
    "    '''\n",
    ")\n",
    "\n",
    "song_related.show(3)"
   ]
  },
  {
   "cell_type": "markdown",
   "metadata": {},
   "source": [
    "#### 4. Plattform Related Features"
   ]
  },
  {
   "cell_type": "code",
   "execution_count": 20,
   "metadata": {},
   "outputs": [
    {
     "name": "stdout",
     "output_type": "stream",
     "text": [
      "+------+--------+-----------+\n",
      "|userId|n_events|n_error_404|\n",
      "+------+--------+-----------+\n",
      "|100010|     381|          0|\n",
      "|200002|     474|          0|\n",
      "|   125|      11|          0|\n",
      "+------+--------+-----------+\n",
      "only showing top 3 rows\n",
      "\n"
     ]
    }
   ],
   "source": [
    "# Plattform Related Features\n",
    "plattform_related = spark.sql(\n",
    "    '''\n",
    "    SELECT userId,\n",
    "        COUNT(page) n_events,\n",
    "        SUM(CASE WHEN status = \"404\" THEN 1 ELSE 0 END) n_error_404\n",
    "    FROM user_log\n",
    "    GROUP BY userId\n",
    "    '''\n",
    ")\n",
    "\n",
    "plattform_related.show(3)"
   ]
  },
  {
   "cell_type": "code",
   "execution_count": 21,
   "metadata": {},
   "outputs": [
    {
     "name": "stdout",
     "output_type": "stream",
     "text": [
      "+------+-----------+\n",
      "|userId|n_error_404|\n",
      "+------+-----------+\n",
      "|    42|          7|\n",
      "|   140|          7|\n",
      "|    39|          7|\n",
      "|   124|          6|\n",
      "|   142|          5|\n",
      "+------+-----------+\n",
      "only showing top 5 rows\n",
      "\n"
     ]
    }
   ],
   "source": [
    "# Number of errors per user\n",
    "plattform_related.select(\"userId\", \"n_error_404\").orderBy(\"n_error_404\", ascending=False).show(5)"
   ]
  },
  {
   "cell_type": "markdown",
   "metadata": {},
   "source": [
    "#### Join columns to final dataset df"
   ]
  },
  {
   "cell_type": "code",
   "execution_count": 22,
   "metadata": {},
   "outputs": [
    {
     "data": {
      "text/plain": [
       "Row(userId='100010', churn=0, gender_num=0.0, t_reg_days=55.64366, level=0.0, n_artists=252, avg_ItemInSession=35.89501312335958, n_sessions=7, n_songs=275, n_songs_unique=269, n_thumbs_up=17, n_thumbs_down=5, length_tot=66941.0, n_events=381, n_error_404=0)"
      ]
     },
     "execution_count": 22,
     "metadata": {},
     "output_type": "execute_result"
    }
   ],
   "source": [
    "df = churn.join(user_related, ['userId'])\\\n",
    "    .join(account_related, ['userId'])\\\n",
    "    .join(song_related, ['userId'])\\\n",
    "    .join(plattform_related, ['userId'])\n",
    "\n",
    "df.head()"
   ]
  },
  {
   "cell_type": "code",
   "execution_count": 23,
   "metadata": {},
   "outputs": [
    {
     "name": "stdout",
     "output_type": "stream",
     "text": [
      "root\n",
      " |-- userId: string (nullable = true)\n",
      " |-- churn: integer (nullable = true)\n",
      " |-- gender_num: double (nullable = true)\n",
      " |-- t_reg_days: double (nullable = true)\n",
      " |-- level: double (nullable = true)\n",
      " |-- n_artists: long (nullable = false)\n",
      " |-- avg_ItemInSession: double (nullable = true)\n",
      " |-- n_sessions: long (nullable = false)\n",
      " |-- n_songs: long (nullable = false)\n",
      " |-- n_songs_unique: long (nullable = false)\n",
      " |-- n_thumbs_up: long (nullable = true)\n",
      " |-- n_thumbs_down: long (nullable = true)\n",
      " |-- length_tot: double (nullable = true)\n",
      " |-- n_events: long (nullable = false)\n",
      " |-- n_error_404: long (nullable = true)\n",
      "\n"
     ]
    }
   ],
   "source": [
    "df.printSchema()"
   ]
  },
  {
   "cell_type": "code",
   "execution_count": 24,
   "metadata": {},
   "outputs": [
    {
     "data": {
      "text/html": [
       "<div>\n",
       "<style scoped>\n",
       "    .dataframe tbody tr th:only-of-type {\n",
       "        vertical-align: middle;\n",
       "    }\n",
       "\n",
       "    .dataframe tbody tr th {\n",
       "        vertical-align: top;\n",
       "    }\n",
       "\n",
       "    .dataframe thead th {\n",
       "        text-align: right;\n",
       "    }\n",
       "</style>\n",
       "<table border=\"1\" class=\"dataframe\">\n",
       "  <thead>\n",
       "    <tr style=\"text-align: right;\">\n",
       "      <th></th>\n",
       "      <th>userId</th>\n",
       "      <th>churn</th>\n",
       "      <th>gender_num</th>\n",
       "      <th>t_reg_days</th>\n",
       "      <th>level</th>\n",
       "      <th>n_artists</th>\n",
       "      <th>avg_ItemInSession</th>\n",
       "      <th>n_sessions</th>\n",
       "      <th>n_songs</th>\n",
       "      <th>n_songs_unique</th>\n",
       "      <th>n_thumbs_up</th>\n",
       "      <th>n_thumbs_down</th>\n",
       "      <th>length_tot</th>\n",
       "      <th>n_events</th>\n",
       "      <th>n_error_404</th>\n",
       "    </tr>\n",
       "  </thead>\n",
       "  <tbody>\n",
       "    <tr>\n",
       "      <th>0</th>\n",
       "      <td>100010</td>\n",
       "      <td>0</td>\n",
       "      <td>0.0</td>\n",
       "      <td>55.64366</td>\n",
       "      <td>0.000000</td>\n",
       "      <td>252</td>\n",
       "      <td>35.895013</td>\n",
       "      <td>7</td>\n",
       "      <td>275</td>\n",
       "      <td>269</td>\n",
       "      <td>17</td>\n",
       "      <td>5</td>\n",
       "      <td>66941.0</td>\n",
       "      <td>381</td>\n",
       "      <td>0</td>\n",
       "    </tr>\n",
       "    <tr>\n",
       "      <th>1</th>\n",
       "      <td>200002</td>\n",
       "      <td>0</td>\n",
       "      <td>1.0</td>\n",
       "      <td>70.07463</td>\n",
       "      <td>0.746835</td>\n",
       "      <td>339</td>\n",
       "      <td>60.578059</td>\n",
       "      <td>6</td>\n",
       "      <td>387</td>\n",
       "      <td>378</td>\n",
       "      <td>21</td>\n",
       "      <td>6</td>\n",
       "      <td>94009.0</td>\n",
       "      <td>474</td>\n",
       "      <td>0</td>\n",
       "    </tr>\n",
       "    <tr>\n",
       "      <th>2</th>\n",
       "      <td>125</td>\n",
       "      <td>1</td>\n",
       "      <td>1.0</td>\n",
       "      <td>71.31689</td>\n",
       "      <td>0.000000</td>\n",
       "      <td>8</td>\n",
       "      <td>5.000000</td>\n",
       "      <td>1</td>\n",
       "      <td>8</td>\n",
       "      <td>8</td>\n",
       "      <td>0</td>\n",
       "      <td>0</td>\n",
       "      <td>2089.0</td>\n",
       "      <td>11</td>\n",
       "      <td>0</td>\n",
       "    </tr>\n",
       "    <tr>\n",
       "      <th>3</th>\n",
       "      <td>124</td>\n",
       "      <td>0</td>\n",
       "      <td>0.0</td>\n",
       "      <td>131.55591</td>\n",
       "      <td>1.000000</td>\n",
       "      <td>2232</td>\n",
       "      <td>165.099275</td>\n",
       "      <td>29</td>\n",
       "      <td>4079</td>\n",
       "      <td>3339</td>\n",
       "      <td>171</td>\n",
       "      <td>41</td>\n",
       "      <td>1012312.0</td>\n",
       "      <td>4825</td>\n",
       "      <td>6</td>\n",
       "    </tr>\n",
       "    <tr>\n",
       "      <th>4</th>\n",
       "      <td>51</td>\n",
       "      <td>1</td>\n",
       "      <td>1.0</td>\n",
       "      <td>19.45584</td>\n",
       "      <td>1.000000</td>\n",
       "      <td>1385</td>\n",
       "      <td>200.603490</td>\n",
       "      <td>10</td>\n",
       "      <td>2111</td>\n",
       "      <td>1854</td>\n",
       "      <td>100</td>\n",
       "      <td>21</td>\n",
       "      <td>523276.0</td>\n",
       "      <td>2464</td>\n",
       "      <td>1</td>\n",
       "    </tr>\n",
       "  </tbody>\n",
       "</table>\n",
       "</div>"
      ],
      "text/plain": [
       "   userId  churn  gender_num  t_reg_days     level  n_artists  \\\n",
       "0  100010      0         0.0    55.64366  0.000000        252   \n",
       "1  200002      0         1.0    70.07463  0.746835        339   \n",
       "2     125      1         1.0    71.31689  0.000000          8   \n",
       "3     124      0         0.0   131.55591  1.000000       2232   \n",
       "4      51      1         1.0    19.45584  1.000000       1385   \n",
       "\n",
       "   avg_ItemInSession  n_sessions  n_songs  n_songs_unique  n_thumbs_up  \\\n",
       "0          35.895013           7      275             269           17   \n",
       "1          60.578059           6      387             378           21   \n",
       "2           5.000000           1        8               8            0   \n",
       "3         165.099275          29     4079            3339          171   \n",
       "4         200.603490          10     2111            1854          100   \n",
       "\n",
       "   n_thumbs_down  length_tot  n_events  n_error_404  \n",
       "0              5     66941.0       381            0  \n",
       "1              6     94009.0       474            0  \n",
       "2              0      2089.0        11            0  \n",
       "3             41   1012312.0      4825            6  \n",
       "4             21    523276.0      2464            1  "
      ]
     },
     "execution_count": 24,
     "metadata": {},
     "output_type": "execute_result"
    }
   ],
   "source": [
    "df.toPandas().head()"
   ]
  },
  {
   "cell_type": "code",
   "execution_count": 25,
   "metadata": {},
   "outputs": [
    {
     "data": {
      "image/png": "[encoded data removed]",
      "text/plain": [
       "<matplotlib.figure.Figure at 0x7e005222edd8>"
      ]
     },
     "metadata": {
      "needs_background": "light"
     },
     "output_type": "display_data"
    }
   ],
   "source": [
    "# Convert Spark DataFrame to Pandas DataFrame\n",
    "df_pd = df.toPandas()\n",
    "\n",
    "# Calculate correlation matrix\n",
    "corr_matrix = df_pd.corr()\n",
    "\n",
    "plt.figure(figsize=(12, 10))\n",
    "sns.heatmap(corr_matrix, annot=True, cmap=\"coolwarm\", fmt=\".2f\", linewidths=0.5)\n",
    "plt.title(\"Correlation Matrix\")\n",
    "plt.show()\n"
   ]
  },
  {
   "cell_type": "markdown",
   "metadata": {},
   "source": [
    "The song_related features show strong correlation, meaning that there is some potential for dimensionality reduction. This shall be done using Principal Component Analysis (PCA), implemented in the pipeline in the following modeling section."
   ]
  },
  {
   "cell_type": "markdown",
   "metadata": {},
   "source": [
    "# 5. Modeling\n",
    "With the features engineered, we can now proceed to model building. We’ll split the data into training and test sets, and experiment with different algorithms to find the best predictive model."
   ]
  },
  {
   "cell_type": "code",
   "execution_count": 36,
   "metadata": {},
   "outputs": [],
   "source": [
    "# Split the data into train and test data\n",
    "train, test = df.randomSplit([0.8, 0.2], seed=49)"
   ]
  },
  {
   "cell_type": "code",
   "execution_count": 37,
   "metadata": {},
   "outputs": [],
   "source": [
    "# Rename the target column to \"label\"\n",
    "train = train.withColumnRenamed(\"churn\", \"label\")\n",
    "test = test.withColumnRenamed(\"churn\", \"label\")"
   ]
  },
  {
   "cell_type": "code",
   "execution_count": 39,
   "metadata": {},
   "outputs": [],
   "source": [
    "assembler = VectorAssembler(inputCols=feature_columns, outputCol=\"inputFeatures\")"
   ]
  },
  {
   "cell_type": "code",
   "execution_count": 40,
   "metadata": {},
   "outputs": [],
   "source": [
    "scaler = Normalizer(inputCol=\"inputFeatures\", outputCol=\"scaled_features\")"
   ]
  },
  {
   "cell_type": "code",
   "execution_count": 41,
   "metadata": {},
   "outputs": [],
   "source": [
    "pca = PCA(k=3, inputCol=\"scaled_features\", outputCol=\"features\")"
   ]
  },
  {
   "cell_type": "markdown",
   "metadata": {},
   "source": [
    "### Model Selection\n",
    "We’ll implement multiple machine learning models, including Logistic Regression, Random Forest, and Gradient-Boosted Trees, and evaluate each model’s performance using cross-validation.\n"
   ]
  },
  {
   "cell_type": "code",
   "execution_count": 42,
   "metadata": {},
   "outputs": [],
   "source": [
    "# Logistic regression\n",
    "lr = LogisticRegression(maxIter=10, regParam=0.0, elasticNetParam=0)\n",
    "pipeline_lr = Pipeline(stages=[assembler, scaler, pca, lr])\n",
    "\n",
    "# Random forest classifier\n",
    "rf = RandomForestClassifier() \n",
    "pipeline_rf  = Pipeline(stages=[assembler, scaler, pca, rf])\n",
    "\n",
    "# Gradient-boosted tree classifier\n",
    "gbt = GBTClassifier() \n",
    "pipeline_gbt = Pipeline(stages=[assembler, scaler, pca, gbt])\n",
    "\n",
    "# Models\n",
    "models = [\n",
    "    (\"logistic_regression\", lr, pipeline_lr),\n",
    "    (\"random_forest\", rf, pipeline_rf),\n",
    "    (\"gradient_boosted_trees\", gbt, pipeline_gbt)\n",
    "]"
   ]
  },
  {
   "cell_type": "markdown",
   "metadata": {},
   "source": [
    "### Parameter Tuning\n",
    "To optimize model performance, we’ll use cross-validation and grid search to fine-tune hyperparameters for our models, trying to maximize accuracy while minimizing overfitting.\n"
   ]
  },
  {
   "cell_type": "code",
   "execution_count": 43,
   "metadata": {},
   "outputs": [],
   "source": [
    "paramgrid = ParamGridBuilder()\\\n",
    "    .addGrid(lr.regParam, [0.0, 0.1])\\\n",
    "    .addGrid(lr.maxIter, [10])\\\n",
    "    .build()\n",
    "\n",
    "\n",
    "evaluator=MulticlassClassificationEvaluator(metricName=\"f1\")"
   ]
  },
  {
   "cell_type": "code",
   "execution_count": 44,
   "metadata": {},
   "outputs": [
    {
     "name": "stdout",
     "output_type": "stream",
     "text": [
      "Training logistic_regression model...\n",
      "The logistic_regression cross-validation model fitting process took 1634.97s.\n",
      "Saving logistic_regression model...\n",
      "Model saved successfully!\n",
      "Training random_forest model...\n",
      "The random_forest cross-validation model fitting process took 853.48s.\n",
      "Saving random_forest model...\n",
      "Model saved successfully!\n",
      "Training gradient_boosted_trees model...\n",
      "The gradient_boosted_trees cross-validation model fitting process took 3277.28s.\n",
      "Saving gradient_boosted_trees model...\n",
      "Model saved successfully!\n"
     ]
    }
   ],
   "source": [
    "for model_name, model, pipeline in models:\n",
    "    print(f\"Training {model_name} model...\")\n",
    "    \n",
    "    crossval = CrossValidator(estimator=pipeline,\n",
    "                              estimatorParamMaps=paramgrid,\n",
    "                              evaluator=evaluator,\n",
    "                              numFolds=3)\n",
    "    t_start = time.time()\n",
    "    cvModel = crossval.fit(train)\n",
    "    t_end = time.time()\n",
    "    print(f\"The {model_name} cross-validation model fitting process took {(t_end - t_start):.2f}s.\")\n",
    "\n",
    "    print(f\"Saving {model_name} model...\")\n",
    "    # Save the best model from cross-validation\n",
    "    bestModel = cvModel.bestModel\n",
    "    bestModel.write().overwrite().save(f\"{model_name}_model\")\n",
    "    print(\"Model saved successfully!\")"
   ]
  },
  {
   "cell_type": "markdown",
   "metadata": {},
   "source": [
    "# 6. Evaluation & Results\n",
    "After training, we’ll evaluate the model on the test data, calculate key metrics, and assess the model’s overall accuracy and F1 score to determine its effectiveness in predicting churn."
   ]
  },
  {
   "cell_type": "code",
   "execution_count": 47,
   "metadata": {},
   "outputs": [
    {
     "name": "stdout",
     "output_type": "stream",
     "text": [
      "Evaluating logistic_regression model...\n",
      "Accuracy for logistic_regression: 0.7143\n",
      "Precision for logistic_regression: 0.5102\n",
      "Recall for logistic_regression: 0.7143\n",
      "F1-Score for logistic_regression: 0.5952\n",
      "\n",
      "\n",
      "Evaluating random_forest model...\n",
      "Accuracy for random_forest: 0.7619\n",
      "Precision for random_forest: 0.8214\n",
      "Recall for random_forest: 0.7619\n",
      "F1-Score for random_forest: 0.6939\n",
      "\n",
      "\n",
      "Evaluating gradient_boosted_trees model...\n",
      "Accuracy for gradient_boosted_trees: 0.7381\n",
      "Precision for gradient_boosted_trees: 0.7216\n",
      "Recall for gradient_boosted_trees: 0.7381\n",
      "F1-Score for gradient_boosted_trees: 0.6766\n",
      "\n",
      "\n"
     ]
    }
   ],
   "source": [
    "model_stats = {}\n",
    "\n",
    "for model_name, _, _ in models:\n",
    "    print(f\"Evaluating {model_name} model...\")\n",
    "    \n",
    "    # Load model\n",
    "    model = PipelineModel.load(f\"{model_name}_model\")\n",
    "    \n",
    "    # Transform test data to get predictions\n",
    "    predictions = model.transform(test)\n",
    "\n",
    "    # Calculate metrics on `test` predictions\n",
    "    accuracy = evaluator.evaluate(predictions, {evaluator.metricName: \"accuracy\"})\n",
    "    precision = evaluator.evaluate(predictions, {evaluator.metricName: \"weightedPrecision\"})\n",
    "    recall = evaluator.evaluate(predictions, {evaluator.metricName: \"weightedRecall\"})\n",
    "    f1 = evaluator.evaluate(predictions, {evaluator.metricName: \"f1\"})\n",
    "    \n",
    "    # Print the metrics\n",
    "    print(f\"Accuracy for {model_name}: {accuracy:.4f}\")\n",
    "    print(f\"Precision for {model_name}: {precision:.4f}\")\n",
    "    print(f\"Recall for {model_name}: {recall:.4f}\")\n",
    "    print(f\"F1-Score for {model_name}: {f1:.4f}\")\n",
    "    print(\"\\n\")\n",
    "    \n",
    "    # Save metrics for model\n",
    "    model_stats[model_name] = {\n",
    "        \"Accuracy\": accuracy,\n",
    "        \"Precision\": precision,\n",
    "        \"Recall\": recall,\n",
    "        \"F1 Score\": f1\n",
    "    }"
   ]
  },
  {
   "cell_type": "code",
   "execution_count": 51,
   "metadata": {},
   "outputs": [
    {
     "data": {
      "image/png": "[encoded data removed]",
      "text/plain": [
       "<matplotlib.figure.Figure at 0x7e006423d0b8>"
      ]
     },
     "metadata": {
      "needs_background": "light"
     },
     "output_type": "display_data"
    }
   ],
   "source": [
    "# Plotting accuracies and f1-scores\n",
    "model_names = list(model_stats.keys())\n",
    "accuracies = [model_stats[model]['Accuracy'] for model in model_names]\n",
    "f1_scores = [model_stats[model]['F1 Score'] for model in model_names]\n",
    "\n",
    "bar_width = 0.35\n",
    "index = np.arange(len(model_names))\n",
    "\n",
    "fig, ax = plt.subplots(figsize=(10, 6))\n",
    "\n",
    "ax.bar(index, accuracies, bar_width, label='Accuracy')\n",
    "ax.bar(index + bar_width, f1_scores, bar_width, label='F1 Score')\n",
    "\n",
    "ax.set_xlabel('Model')\n",
    "ax.set_ylabel('Score')\n",
    "ax.set_title('Model Performance Comparison (Accuracy and F1 Score)')\n",
    "ax.set_xticks(index + bar_width / 2)\n",
    "ax.set_xticklabels(model_names)\n",
    "ax.legend()\n",
    "\n",
    "plt.tight_layout()\n",
    "plt.show()"
   ]
  },
  {
   "cell_type": "markdown",
   "metadata": {},
   "source": [
    "# 7. Conclusion\n",
    "In this project, we successfully built a predictive model for user churn."
   ]
  }
 ],
 "metadata": {
  "kernelspec": {
   "display_name": "Python 3",
   "language": "python",
   "name": "python3"
  },
  "language_info": {
   "codemirror_mode": {
    "name": "ipython",
    "version": 3
   },
   "file_extension": ".py",
   "mimetype": "text/x-python",
   "name": "python",
   "nbconvert_exporter": "python",
   "pygments_lexer": "ipython3",
   "version": "3.6.3"
  }
 },
 "nbformat": 4,
 "nbformat_minor": 4
}
